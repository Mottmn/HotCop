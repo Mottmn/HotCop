{
 "cells": [
  {
   "cell_type": "code",
   "execution_count": null,
   "metadata": {},
   "outputs": [],
   "source": [
    "# notes from initial call with Raph: \n",
    "\n",
    "# linux terminal on windows: \n",
    "# https://learn.microsoft.com/en-us/windows/terminal/\n",
    "# https://docs.anaconda.com/free/anaconda/install/index.html\n",
    "# https://phoenixnap.com/kb/how-to-install-git-windows\n",
    "# unix distro (ubuntu)\n"
   ]
  },
  {
   "cell_type": "code",
   "execution_count": 1,
   "metadata": {},
   "outputs": [],
   "source": [
    "# set working directory\n",
    "\n",
    "import os\n",
    "\n",
    "# gives current wd:\n",
    "# os.getcwd() \n",
    "\n",
    "# sets current wd:\n",
    "os.chdir('C:\\\\Users\\\\twend\\\\Desktop\\\\python')\n",
    "\n",
    "import pandas as pd\n",
    "import matplotlib.pyplot as plt"
   ]
  },
  {
   "cell_type": "code",
   "execution_count": 51,
   "metadata": {},
   "outputs": [],
   "source": [
    "#import police data\n",
    "\n",
    "dfp = pd.read_json('https://data.seattle.gov/resource/ppi5-g2bj.json')\n",
    "\n",
    "dfp.to_csv(\"pjson.csv\")\n",
    "\n"
   ]
  },
  {
   "cell_type": "code",
   "execution_count": 5,
   "metadata": {},
   "outputs": [
    {
     "data": {
      "text/plain": [
       "<bound method NDFrame.head of      Unnamed: 0                 uniqueid  incident_num  \\\n",
       "0             0  2022UOF-0937-2637-26881         68522   \n",
       "5             5  2022UOF-0708-2623-13084         68325   \n",
       "9             9  2022UOF-0369-1438-27117         66695   \n",
       "16           16  2022UOF-0664-2739-26793         68169   \n",
       "76           76   2022UOF-0228-173-28067         67432   \n",
       "..          ...                      ...           ...   \n",
       "899         899  2022UOF-1158-2717-29879         70309   \n",
       "900         900  2022UOF-0632-2737-28771         68682   \n",
       "914         914  2022UOF-0912-2311-19865         69461   \n",
       "960         960  2022UOF-0960-2892-29409         69551   \n",
       "962         962   2022UOF-0869-176-28794         68738   \n",
       "\n",
       "              incident_type   occured_date_time precinct beat  officer_id  \\\n",
       "0    Level 2 - Use of Force 2022-07-11 06:07:00        -    -        5062   \n",
       "5    Level 2 - Use of Force 2022-06-19 20:51:00     West   M3        5019   \n",
       "9    Level 2 - Use of Force 2022-01-26 15:09:00    North   N2        1135   \n",
       "16   Level 2 - Use of Force 2022-06-05 20:47:00     West   D3        5258   \n",
       "76   Level 1 - Use of Force 2022-03-30 18:21:00     West   M3        1260   \n",
       "..                      ...                 ...      ...  ...         ...   \n",
       "899  Level 1 - Use of Force 2022-12-26 17:00:00        -    -        5239   \n",
       "900  Level 1 - Use of Force 2022-07-28 07:06:00    South   O2        5266   \n",
       "914  Level 1 - Use of Force 2022-10-05 12:30:00        -    -        2307   \n",
       "960  Level 1 - Use of Force 2022-10-12 16:43:00        -    -        5693   \n",
       "962  Level 1 - Use of Force 2022-07-31 23:45:00    North   B2        1261   \n",
       "\n",
       "     subject_id               subject_race subject_gender sector  \n",
       "0         27758                      White           Male    NaN  \n",
       "5         13980              Not Specified           Male   MARY  \n",
       "9         27994              Not Specified        Unknown   NORA  \n",
       "16        27670                      White           Male  DAVID  \n",
       "76        28943  Black or African American         Female   MARY  \n",
       "..          ...                        ...            ...    ...  \n",
       "899       30752                      White           Male    NaN  \n",
       "900       29646              Not Specified           Male  OCEAN  \n",
       "914       20751                      White           Male    NaN  \n",
       "960       30282  Black or African American           Male    NaN  \n",
       "962       29669              Not Specified           Male    BOY  \n",
       "\n",
       "[86 rows x 12 columns]>"
      ]
     },
     "execution_count": 5,
     "metadata": {},
     "output_type": "execute_result"
    }
   ],
   "source": [
    "import datetime\n",
    "\n",
    "dfp = pd.read_csv('pjson.csv')\n",
    "\n",
    "#sort by ascending date\n",
    "dfp.sort_values(['occured_date_time'], ascending = True)\n",
    "\n",
    "# convert occurrence date from object to datetime format\n",
    "dfp['occured_date_time'] = pd.to_datetime(dfp['occured_date_time'])\n",
    "\n",
    "#strt = input(\"Start year of data:\")\n",
    "\n",
    "\n",
    "\n",
    "# new dataframe for 2022 data only \n",
    "dfp2 = dfp[(dfp['occured_date_time'] >'2022-1-1 00:00:00') & (dfp['occured_date_time'] < '2023-1-1 00:00:00')]\n",
    "\n",
    "dfp2.head\n"
   ]
  },
  {
   "cell_type": "code",
   "execution_count": 7,
   "metadata": {},
   "outputs": [
    {
     "name": "stderr",
     "output_type": "stream",
     "text": [
      "<ipython-input-7-c37d2ad8f6ba>:2: SettingWithCopyWarning: \n",
      "A value is trying to be set on a copy of a slice from a DataFrame.\n",
      "Try using .loc[row_indexer,col_indexer] = value instead\n",
      "\n",
      "See the caveats in the documentation: https://pandas.pydata.org/pandas-docs/stable/user_guide/indexing.html#returning-a-view-versus-a-copy\n",
      "  dfp2[\"month\"] = dfp2[\"occured_date_time\"].dt.month\n"
     ]
    },
    {
     "data": {
      "text/plain": [
       "(array([ 8.,  7., 15.,  4.,  4.,  5.,  5.,  9.,  7.,  9.,  5.,  8.]),\n",
       " array([ 1,  2,  3,  4,  5,  6,  7,  8,  9, 10, 11, 12, 13]),\n",
       " <BarContainer object of 12 artists>)"
      ]
     },
     "execution_count": 7,
     "metadata": {},
     "output_type": "execute_result"
    },
    {
     "data": {
      "image/png": "[encoded data removed]",
      "text/plain": [
       "<Figure size 432x288 with 1 Axes>"
      ]
     },
     "metadata": {
      "needs_background": "light"
     },
     "output_type": "display_data"
    }
   ],
   "source": [
    "# add new column to 2022 data with month only \n",
    "dfp2[\"month\"] = dfp2[\"occured_date_time\"].dt.month\n",
    "\n",
    "# counts of incident per month \n",
    "# y = dfp2['month'].value_counts()\n",
    "\n",
    "# bins for histogram\n",
    "months = [1,2,3,4,5,6,7,8,9,10,11,12,13]\n",
    "\n",
    "# histogram of incidents\n",
    "plt.hist(dfp2['month'], bins = months, align = 'left', edgecolor = 'black')\n",
    "\n",
    "#plt.hist(dfp2['incident_type'], bins = months)"
   ]
  },
  {
   "cell_type": "code",
   "execution_count": null,
   "metadata": {},
   "outputs": [],
   "source": [
    "#dfp2['incident_type'] = dfp2['incident_type'].astype(str)"
   ]
  }
 ],
 "metadata": {
  "kernelspec": {
   "display_name": "Python 3",
   "language": "python",
   "name": "python3"
  },
  "language_info": {
   "codemirror_mode": {
    "name": "ipython",
    "version": 3
   },
   "file_extension": ".py",
   "mimetype": "text/x-python",
   "name": "python",
   "nbconvert_exporter": "python",
   "pygments_lexer": "ipython3",
   "version": "3.8.5"
  }
 },
 "nbformat": 4,
 "nbformat_minor": 4
}
